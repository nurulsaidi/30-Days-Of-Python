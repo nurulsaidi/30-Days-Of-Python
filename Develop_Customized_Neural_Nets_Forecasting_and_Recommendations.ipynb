{
  "nbformat": 4,
  "nbformat_minor": 0,
  "metadata": {
    "colab": {
      "name": "Develop Customized Neural Nets - Forecasting and Recommendations.ipynb",
      "provenance": [],
      "toc_visible": true,
      "include_colab_link": true
    },
    "kernelspec": {
      "name": "python3",
      "display_name": "Python 3"
    }
  },
  "cells": [
    {
      "cell_type": "markdown",
      "metadata": {
        "id": "view-in-github",
        "colab_type": "text"
      },
      "source": [
        "<a href=\"https://colab.research.google.com/github/nurulsaidi/30-Days-Of-Python/blob/master/Develop_Customized_Neural_Nets_Forecasting_and_Recommendations.ipynb\" target=\"_parent\"><img src=\"https://colab.research.google.com/assets/colab-badge.svg\" alt=\"Open In Colab\"/></a>"
      ]
    },
    {
      "cell_type": "markdown",
      "metadata": {
        "id": "fw8Ri2U_X75p"
      },
      "source": [
        "# Welcome to the Abacus.AI Demo Workbook!\n",
        "\n",
        "This workbook provides you all the resources needed to follow up with the demo and use Abacus.AI platform.\n",
        "\n",
        "For questions or help, please use the Zoom chat.\n",
        "\n",
        "Prerequisite: [Sign up](https://abacus.ai/app/signup?signupToken=workshop_recommendation) for an account."
      ]
    },
    {
      "cell_type": "markdown",
      "metadata": {
        "id": "__NDm8-bYCqx"
      },
      "source": [
        "# Useful Resources for Demo\n",
        "\n",
        "**Resources for Session 1**\n",
        "\n",
        "Address to attach data to your project for Recommender AI Demo: \n",
        "\n",
        "**User Movie Ratings**: [s3://abacusai.exampledatasets/user_recommendations/user_movie_ratings.csv](s3://abacusai.exampledatasets/user_recommendations/user_movie_ratings.csv)\n",
        "\n",
        "**User Attributes**: [s3://abacusai.exampledatasets/user_recommendations/users_metadata.csv](s3://abacusai.exampledatasets/user_recommendations/users_metadata.csv)\n",
        "\n",
        "**Movie Attributes**: [s3://abacusai.exampledatasets/user_recommendations/movies_metadata.csv](s3://abacusai.exampledatasets/user_recommendations/movies_metadata.csv)\n",
        "\n",
        "\n",
        "<br />\n",
        "\n",
        "Slides PDF: https://drive.google.com/file/d/1BhZtYV5uESrOmXym_G4Dt0ypdL_BCbBV/view?usp=sharing\n",
        "\n",
        "\n",
        "\n",
        "\n",
        "\n",
        "---\n",
        "\n",
        "\n",
        "<br />\n",
        "\n",
        "**Resources for Session 2**\n",
        "\n",
        "Address to attach data to your project for Forecasting Demo: \n",
        "\n",
        "[s3://abacusai.exampledatasets/workshop_public_datasets/sales_performance.csv](s3://abacusai.exampledatasets/workshop_public_datasets/sales_performance.csv)\n",
        "\n",
        "<br />\n",
        "\n",
        "Slides PDF: https://drive.google.com/file/d/1QVtdFRtsSaFfkwLrSShynU8u3mTWbulQ/view?usp=sharing\n",
        "\n",
        "Public Dataset Reference: https://www.kaggle.com/nomanvb/tv-sales-forecast"
      ]
    }
  ]
}